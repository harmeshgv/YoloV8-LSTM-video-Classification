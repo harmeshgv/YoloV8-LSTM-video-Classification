{
 "cells": [
  {
   "cell_type": "code",
   "execution_count": 2,
   "id": "41d1c5e8",
   "metadata": {},
   "outputs": [
    {
     "name": "stdout",
     "output_type": "stream",
     "text": [
      "├── notebooks\n",
      "│   ├── data_extraction.ipynb\n",
      "│   └── models.ipynb\n",
      "├── docker-compose.yml\n",
      "├── scripts\n",
      "│   ├── data_download.py\n",
      "│   └── model_download.py\n",
      "├── Jenkinsfile\n",
      "├── main.py\n",
      "├── data\n",
      "│   ├── hockeyfight_train.csv\n",
      "│   └── moviefight_train.csv\n",
      "├── t_n001_converted.avi\n",
      "├── .python-version\n",
      "├── README.md\n",
      "├── .github\n",
      "│   └── workflows\n",
      "│       └── codeql.yml\n",
      "├── .gitignore\n",
      "├── .dockerignore\n",
      "├── backend\n",
      "│   ├── config.py\n",
      "│   ├── pipelines\n",
      "│   │   └── video_preprocessor.py\n",
      "│   ├── data_extraction\n",
      "│   │   ├── person_tracker.py\n",
      "│   │   └── interaction_analyzer.py\n",
      "│   ├── services\n",
      "│   │   ├── prediction\n",
      "│   │   │   └── predictor.py\n",
      "│   │   ├── video_processing\n",
      "│   │   │   └── processor.py\n",
      "│   │   └── feature_extraction\n",
      "│   │       └── extractor.py\n",
      "│   ├── main.py\n",
      "│   ├── utils\n",
      "│   │   ├── gpu.py\n",
      "│   │   └── visualizer.py\n",
      "│   ├── requirements.txt\n",
      "│   ├── __init__.py\n",
      "│   ├── Dockerfile\n",
      "│   ├── tests\n",
      "│   ├── streamlit_app.py\n",
      "│   ├── models\n",
      "│   │   ├── violence_model.joblib\n",
      "│   │   ├── yolov8n-pose.pt\n",
      "│   │   └── yolov8n.pt\n",
      "│   ├── output\n",
      "│   └── preprocessing\n",
      "│       └── preprocessor.py\n",
      "├── s.ipynb\n",
      "├── LICENSE\n",
      "├── pyproject.toml\n",
      "├── .gitattributes\n",
      "└── frontend\n",
      "    ├── extract.py\n",
      "    ├── requirements.txt\n",
      "    └── Dockerfile\n"
     ]
    }
   ],
   "source": [
    "import os\n",
    "\n",
    "IGNORE = {\"venv\", \".git\", \"__pycache__\", \"myenv\",\"node_modules\",\"backvenv\"}  # folders to skip\n",
    "\n",
    "def print_dir_tree(root_dir, prefix=\"\"):\n",
    "    entries = [e for e in os.listdir(root_dir) if e not in IGNORE]\n",
    "    for i, item in enumerate(entries):\n",
    "        path = os.path.join(root_dir, item)\n",
    "        connector = \"└── \" if i == len(entries) - 1 else \"├── \"\n",
    "        print(prefix + connector + item)\n",
    "        if os.path.isdir(path):\n",
    "            extension = \"    \" if i == len(entries) - 1 else \"│   \"\n",
    "            print_dir_tree(path, prefix + extension)\n",
    "\n",
    "# Example usage\n",
    "project_root = \"/home/ml/Documents/YoloV8-LSTM-video-Classification\"\n",
    "print_dir_tree(project_root)\n"
   ]
  },
  {
   "cell_type": "code",
   "execution_count": null,
   "id": "71c91472",
   "metadata": {},
   "outputs": [],
   "source": []
  }
 ],
 "metadata": {
  "kernelspec": {
   "display_name": "venv",
   "language": "python",
   "name": "python3"
  },
  "language_info": {
   "codemirror_mode": {
    "name": "ipython",
    "version": 3
   },
   "file_extension": ".py",
   "mimetype": "text/x-python",
   "name": "python",
   "nbconvert_exporter": "python",
   "pygments_lexer": "ipython3",
   "version": "3.9.23"
  }
 },
 "nbformat": 4,
 "nbformat_minor": 5
}
