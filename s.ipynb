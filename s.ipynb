{
 "cells": [
  {
   "cell_type": "code",
   "execution_count": 3,
   "id": "41d1c5e8",
   "metadata": {},
   "outputs": [
    {
     "name": "stdout",
     "output_type": "stream",
     "text": [
      "├── services\n",
      "│   ├── prediction\n",
      "│   │   ├── __init__.py\n",
      "│   │   └── predictor.py\n",
      "│   ├── video_processing\n",
      "│   │   ├── __init__.py\n",
      "│   │   └── processor.py\n",
      "│   ├── feature_extraction\n",
      "│   │   ├── extractor.py\n",
      "│   │   └── __init__.py\n",
      "│   └── __init__..py\n",
      "├── __init__.py\n",
      "├── pipelines\n",
      "│   ├── __init__.py\n",
      "│   └── video_preprocessor.py\n",
      "├── preprocessing\n",
      "│   ├── preprocessor.py\n",
      "│   └── __init__.py\n",
      "├── data_extraction\n",
      "│   ├── __init__.py\n",
      "│   ├── person_tracker.py\n",
      "│   └── interaction_analyzer.py\n",
      "├── Dockerfile\n",
      "├── main.py\n",
      "├── config.py\n",
      "├── models\n",
      "│   ├── yolov8n-pose.pt\n",
      "│   ├── yolov8n.pt\n",
      "│   └── violence_model.joblib\n",
      "└── utils\n",
      "    ├── __init__.py\n",
      "    ├── visualizer.py\n",
      "    └── gpu.py\n"
     ]
    }
   ],
   "source": [
    "import os\n",
    "\n",
    "IGNORE = {\"venv\", \".git\", \"__pycache__\", \"myenv\",\"node_modules\",\"backvenv\"}  # folders to skip\n",
    "\n",
    "def print_dir_tree(root_dir, prefix=\"\"):\n",
    "    entries = [e for e in os.listdir(root_dir) if e not in IGNORE]\n",
    "    for i, item in enumerate(entries):\n",
    "        path = os.path.join(root_dir, item)\n",
    "        connector = \"└── \" if i == len(entries) - 1 else \"├── \"\n",
    "        print(prefix + connector + item)\n",
    "        if os.path.isdir(path):\n",
    "            extension = \"    \" if i == len(entries) - 1 else \"│   \"\n",
    "            print_dir_tree(path, prefix + extension)\n",
    "\n",
    "# Example usage\n",
    "project_root = \"backend\"\n",
    "print_dir_tree(project_root)\n"
   ]
  },
  {
   "cell_type": "code",
   "execution_count": null,
   "id": "71c91472",
   "metadata": {},
   "outputs": [],
   "source": []
  }
 ],
 "metadata": {
  "kernelspec": {
   "display_name": ".venv",
   "language": "python",
   "name": "python3"
  },
  "language_info": {
   "codemirror_mode": {
    "name": "ipython",
    "version": 3
   },
   "file_extension": ".py",
   "mimetype": "text/x-python",
   "name": "python",
   "nbconvert_exporter": "python",
   "pygments_lexer": "ipython3",
   "version": "3.12.3"
  }
 },
 "nbformat": 4,
 "nbformat_minor": 5
}
